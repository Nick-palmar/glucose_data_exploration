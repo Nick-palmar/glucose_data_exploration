{
 "metadata": {
  "language_info": {
   "codemirror_mode": {
    "name": "ipython",
    "version": 3
   },
   "file_extension": ".py",
   "mimetype": "text/x-python",
   "name": "python",
   "nbconvert_exporter": "python",
   "pygments_lexer": "ipython3",
   "version": "3.7.6"
  },
  "orig_nbformat": 2,
  "kernelspec": {
   "name": "python3",
   "display_name": "Python 3.7.6 64-bit ('base': conda)",
   "metadata": {
    "interpreter": {
     "hash": "491e1cf2486fb7b9f559677bae4bfdb3b162b5c5619f04e23ae5d9644f2b0465"
    }
   }
  }
 },
 "nbformat": 4,
 "nbformat_minor": 2,
 "cells": [
  {
   "cell_type": "code",
   "execution_count": 3,
   "metadata": {},
   "outputs": [
    {
     "output_type": "execute_result",
     "data": {
      "text/plain": [
       "                    time mmol/L trend activity exercise (mins)\n",
       "283  2021-04-04 07:38:00      7     →      NaN             NaN\n",
       "284  2021-04-04 07:43:00    7.1     →      NaN             NaN\n",
       "285  2021-04-04 07:48:00    6.9     →      NaN             NaN\n",
       "286  2021-04-04 07:53:00    6.8     →      NaN             NaN\n",
       "287  2021-04-04 07:58:00    6.7     →      NaN             NaN"
      ],
      "text/html": "<div>\n<style scoped>\n    .dataframe tbody tr th:only-of-type {\n        vertical-align: middle;\n    }\n\n    .dataframe tbody tr th {\n        vertical-align: top;\n    }\n\n    .dataframe thead th {\n        text-align: right;\n    }\n</style>\n<table border=\"1\" class=\"dataframe\">\n  <thead>\n    <tr style=\"text-align: right;\">\n      <th></th>\n      <th>time</th>\n      <th>mmol/L</th>\n      <th>trend</th>\n      <th>activity</th>\n      <th>exercise (mins)</th>\n    </tr>\n  </thead>\n  <tbody>\n    <tr>\n      <th>283</th>\n      <td>2021-04-04 07:38:00</td>\n      <td>7</td>\n      <td>→</td>\n      <td>NaN</td>\n      <td>NaN</td>\n    </tr>\n    <tr>\n      <th>284</th>\n      <td>2021-04-04 07:43:00</td>\n      <td>7.1</td>\n      <td>→</td>\n      <td>NaN</td>\n      <td>NaN</td>\n    </tr>\n    <tr>\n      <th>285</th>\n      <td>2021-04-04 07:48:00</td>\n      <td>6.9</td>\n      <td>→</td>\n      <td>NaN</td>\n      <td>NaN</td>\n    </tr>\n    <tr>\n      <th>286</th>\n      <td>2021-04-04 07:53:00</td>\n      <td>6.8</td>\n      <td>→</td>\n      <td>NaN</td>\n      <td>NaN</td>\n    </tr>\n    <tr>\n      <th>287</th>\n      <td>2021-04-04 07:58:00</td>\n      <td>6.7</td>\n      <td>→</td>\n      <td>NaN</td>\n      <td>NaN</td>\n    </tr>\n  </tbody>\n</table>\n</div>"
     },
     "metadata": {},
     "execution_count": 3
    }
   ],
   "source": [
    "from cleaning_data import read_workbook_sheet\n",
    "df = read_workbook_sheet('Sugarmate-Report-Lucas-04-21.xlsx', 'Sat Apr 3, 2021', 13)\n",
    "df.tail()"
   ]
  },
  {
   "cell_type": "code",
   "execution_count": null,
   "metadata": {},
   "outputs": [],
   "source": []
  }
 ]
}