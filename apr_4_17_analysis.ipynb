{
 "metadata": {
  "language_info": {
   "codemirror_mode": {
    "name": "ipython",
    "version": 3
   },
   "file_extension": ".py",
   "mimetype": "text/x-python",
   "name": "python",
   "nbconvert_exporter": "python",
   "pygments_lexer": "ipython3",
   "version": "3.7.6"
  },
  "orig_nbformat": 2,
  "kernelspec": {
   "name": "python3",
   "display_name": "Python 3.7.6 64-bit ('base': conda)",
   "metadata": {
    "interpreter": {
     "hash": "491e1cf2486fb7b9f559677bae4bfdb3b162b5c5619f04e23ae5d9644f2b0465"
    }
   }
  }
 },
 "nbformat": 4,
 "nbformat_minor": 2,
 "cells": [
  {
   "cell_type": "code",
   "execution_count": 1,
   "metadata": {},
   "outputs": [
    {
     "output_type": "stream",
     "name": "stdout",
     "text": [
      "Added df for: Sat Apr 3, 2021\n",
      "Added df for: Sun Apr 4, 2021\n",
      "Added df for: Mon Apr 5, 2021\n",
      "Added df for: Tue Apr 6, 2021\n",
      "Added df for: Wed Apr 7, 2021\n",
      "Added df for: Thu Apr 8, 2021\n",
      "Added df for: Fri Apr 9, 2021\n",
      "Added df for: Sat Apr 10, 2021\n",
      "Added df for: Sun Apr 11, 2021\n",
      "Added df for: Mon Apr 12, 2021\n",
      "Added df for: Tue Apr 13, 2021\n",
      "Added df for: Wed Apr 14, 2021\n",
      "Added df for: Thu Apr 15, 2021\n",
      "Added df for: Fri Apr 16, 2021\n"
     ]
    },
    {
     "output_type": "execute_result",
     "data": {
      "text/plain": [
       "      mmol/L trend  exercise (mins)  day  month  year  minutes_time  weekday  \\\n",
       "4031     5.9     3              NaN   17      4  2021           459        5   \n",
       "4032     5.9     3              NaN   17      4  2021           464        5   \n",
       "4033     5.9     3              NaN   17      4  2021           469        5   \n",
       "4034     6.3     3              NaN   17      4  2021           474        5   \n",
       "4035     6.5     3              NaN   17      4  2021           479        5   \n",
       "\n",
       "      Elliptical  Walking  basketball  core training  \\\n",
       "4031           0        0           0              0   \n",
       "4032           0        0           0              0   \n",
       "4033           0        0           0              0   \n",
       "4034           0        0           0              0   \n",
       "4035           0        0           0              0   \n",
       "\n",
       "      functional strength training  high intensity interval training  \\\n",
       "4031                             0                                 0   \n",
       "4032                             0                                 0   \n",
       "4033                             0                                 0   \n",
       "4034                             0                                 0   \n",
       "4035                             0                                 0   \n",
       "\n",
       "      martial arts  other  soccer  \n",
       "4031             0      0       0  \n",
       "4032             0      0       0  \n",
       "4033             0      0       0  \n",
       "4034             0      0       0  \n",
       "4035             0      0       0  "
      ],
      "text/html": "<div>\n<style scoped>\n    .dataframe tbody tr th:only-of-type {\n        vertical-align: middle;\n    }\n\n    .dataframe tbody tr th {\n        vertical-align: top;\n    }\n\n    .dataframe thead th {\n        text-align: right;\n    }\n</style>\n<table border=\"1\" class=\"dataframe\">\n  <thead>\n    <tr style=\"text-align: right;\">\n      <th></th>\n      <th>mmol/L</th>\n      <th>trend</th>\n      <th>exercise (mins)</th>\n      <th>day</th>\n      <th>month</th>\n      <th>year</th>\n      <th>minutes_time</th>\n      <th>weekday</th>\n      <th>Elliptical</th>\n      <th>Walking</th>\n      <th>basketball</th>\n      <th>core training</th>\n      <th>functional strength training</th>\n      <th>high intensity interval training</th>\n      <th>martial arts</th>\n      <th>other</th>\n      <th>soccer</th>\n    </tr>\n  </thead>\n  <tbody>\n    <tr>\n      <th>4031</th>\n      <td>5.9</td>\n      <td>3</td>\n      <td>NaN</td>\n      <td>17</td>\n      <td>4</td>\n      <td>2021</td>\n      <td>459</td>\n      <td>5</td>\n      <td>0</td>\n      <td>0</td>\n      <td>0</td>\n      <td>0</td>\n      <td>0</td>\n      <td>0</td>\n      <td>0</td>\n      <td>0</td>\n      <td>0</td>\n    </tr>\n    <tr>\n      <th>4032</th>\n      <td>5.9</td>\n      <td>3</td>\n      <td>NaN</td>\n      <td>17</td>\n      <td>4</td>\n      <td>2021</td>\n      <td>464</td>\n      <td>5</td>\n      <td>0</td>\n      <td>0</td>\n      <td>0</td>\n      <td>0</td>\n      <td>0</td>\n      <td>0</td>\n      <td>0</td>\n      <td>0</td>\n      <td>0</td>\n    </tr>\n    <tr>\n      <th>4033</th>\n      <td>5.9</td>\n      <td>3</td>\n      <td>NaN</td>\n      <td>17</td>\n      <td>4</td>\n      <td>2021</td>\n      <td>469</td>\n      <td>5</td>\n      <td>0</td>\n      <td>0</td>\n      <td>0</td>\n      <td>0</td>\n      <td>0</td>\n      <td>0</td>\n      <td>0</td>\n      <td>0</td>\n      <td>0</td>\n    </tr>\n    <tr>\n      <th>4034</th>\n      <td>6.3</td>\n      <td>3</td>\n      <td>NaN</td>\n      <td>17</td>\n      <td>4</td>\n      <td>2021</td>\n      <td>474</td>\n      <td>5</td>\n      <td>0</td>\n      <td>0</td>\n      <td>0</td>\n      <td>0</td>\n      <td>0</td>\n      <td>0</td>\n      <td>0</td>\n      <td>0</td>\n      <td>0</td>\n    </tr>\n    <tr>\n      <th>4035</th>\n      <td>6.5</td>\n      <td>3</td>\n      <td>NaN</td>\n      <td>17</td>\n      <td>4</td>\n      <td>2021</td>\n      <td>479</td>\n      <td>5</td>\n      <td>0</td>\n      <td>0</td>\n      <td>0</td>\n      <td>0</td>\n      <td>0</td>\n      <td>0</td>\n      <td>0</td>\n      <td>0</td>\n      <td>0</td>\n    </tr>\n  </tbody>\n</table>\n</div>"
     },
     "metadata": {},
     "execution_count": 1
    }
   ],
   "source": [
    "from cleaning_data import read_multiple_days\n",
    "df = read_multiple_days('Sun Apr 4, 2021', 14)\n",
    "df.tail()"
   ]
  },
  {
   "cell_type": "code",
   "execution_count": null,
   "metadata": {},
   "outputs": [],
   "source": []
  }
 ]
}